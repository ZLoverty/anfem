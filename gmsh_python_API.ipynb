{
 "cells": [
  {
   "cell_type": "markdown",
   "id": "5df7c3df",
   "metadata": {},
   "source": [
    "# Gmsh Python API\n",
    "\n",
    "In this notebook, I redraw the channel mesh using the Python API of Gmsh. It's supposed to be easier to debug and modify interactively."
   ]
  },
  {
   "cell_type": "code",
   "execution_count": null,
   "id": "f964be59",
   "metadata": {},
   "outputs": [],
   "source": [
    "import gmsh\n",
    "\n",
    "# Initialize Gmsh\n",
    "gmsh.initialize()\n",
    "\n",
    "# Set the geometry kernel to OpenCASCADE\n",
    "# This is equivalent to SetFactory(\"OpenCASCADE\");\n",
    "gmsh.model.add(\"ratchet_channel\")\n",
    "occ = gmsh.model.occ\n",
    "\n",
    "# --- 1. Parameters ---\n",
    "W_TOTAL = 200\n",
    "H_TOTAL = 100\n",
    "h = 5\n",
    "m = 3\n",
    "l = 2 * h\n",
    "N = 3\n",
    "w = 2 * h\n",
    "cl_outer = 3  # Outer boundary characteristic length\n",
    "cl_inner = 1   # Channel characteristic length\n",
    "\n",
    "# --- 2. Create the outer rectangle ---\n",
    "outer_rectangle = occ.addRectangle(0, 0, 0, W_TOTAL, H_TOTAL)\n",
    "occ.synchronize()\n",
    "\n",
    "\n",
    "\n",
    "# --- 3. Create the ratchet \"tool\" shapes using a helper function ---\n",
    "def create_ratchet(x_start, y_start, is_top):\n",
    "    \"\"\"\n",
    "    Creates a ratchet surface tool.\n",
    "    Returns the tag of the Plane Surface.\n",
    "    \"\"\"\n",
    "    p_current = gmsh.model.occ.getMaxTag(0) + 1 # Get a fresh point tag\n",
    "    \n",
    "    # Starting points\n",
    "    p1 = occ.addPoint(x_start, y_start, 0, cl_inner, p_current)\n",
    "    y_offset = 2 * h if not is_top else -2 * h\n",
    "    p2 = occ.addPoint(x_start, y_start + y_offset, 0, cl_inner, p_current + 1)\n",
    "\n",
    "    points = [p1, p2]\n",
    "    \n",
    "    # Loop over teeth\n",
    "    for i in range(N):\n",
    "        y_direction = 1 if not is_top else -1\n",
    "        # Use p_current for unique tags\n",
    "        p_current = gmsh.model.occ.getMaxTag(0) + 1\n",
    "        \n",
    "        # Ratchet tooth corner points\n",
    "        pt1 = occ.addPoint(x_start + m + i * l, y_start + y_offset, 0, cl_inner, p_current)\n",
    "        pt2 = occ.addPoint(x_start + m + i * l, y_start + y_offset/2, 0, cl_inner, p_current + 1)\n",
    "        points.extend([pt1, pt2])\n",
    "\n",
    "    # End points of the ratchet\n",
    "    p_current = gmsh.model.occ.getMaxTag(0) + 1\n",
    "    end_x = x_start + m + N * l # Correctly use N instead of the loop variable i\n",
    "    \n",
    "    pt_end1 = occ.addPoint(end_x, y_start + y_offset, 0, cl_inner, p_current)\n",
    "    pt_end2 = occ.addPoint(end_x + m, y_start + y_offset, 0, cl_inner, p_current+1)\n",
    "    pt_end3 = occ.addPoint(end_x + m, y_start, 0, cl_inner, p_current+2)\n",
    "    points.extend([pt_end1, pt_end2, pt_end3])\n",
    "\n",
    "    # Create lines connecting all the points\n",
    "    lines = []\n",
    "    for i in range(len(points) - 1):\n",
    "        lines.append(occ.addLine(points[i], points[i+1]))\n",
    "    # Add the final line to close the loop\n",
    "    lines.append(occ.addLine(points[-1], points[0]))\n",
    "    \n",
    "    # Create the surface\n",
    "    cloop = occ.addCurveLoop(lines)\n",
    "    surface = occ.addPlaneSurface([cloop])\n",
    "    return surface"
   ]
  },
  {
   "cell_type": "code",
   "execution_count": 7,
   "id": "bce957f1",
   "metadata": {},
   "outputs": [
    {
     "name": "stdout",
     "output_type": "stream",
     "text": [
      "                                                                                                                          \r"
     ]
    }
   ],
   "source": [
    "# Create the bottom and top ratchets\n",
    "x01 = 0.5 * (W_TOTAL - N * l - 2 * m)\n",
    "y01 = 0.5 * (H_TOTAL - 4 * h - w)\n",
    "bottom_ratchet = create_ratchet(x01, y01, is_top=False)\n",
    "\n",
    "x02 = x01\n",
    "y02 = H_TOTAL - y01\n",
    "top_ratchet = create_ratchet(x02, y02, is_top=True)\n",
    "\n",
    "# --- 4. Perform the Boolean Operation ---\n",
    "# Subtract the two ratchet tools from the outer rectangle\n",
    "final_shape, _ = occ.cut([(2, outer_rectangle)], [(2, bottom_ratchet), (2, top_ratchet)], removeObject=True, removeTool=True)\n",
    "\n",
    "# IMPORTANT: Synchronize the CAD kernel with the Gmsh model\n",
    "occ.synchronize()"
   ]
  },
  {
   "cell_type": "code",
   "execution_count": 8,
   "id": "a42f9403",
   "metadata": {},
   "outputs": [],
   "source": [
    "# --- 5. Identify Boundaries and Assign Physical Groups ---\n",
    "final_surface_tag = final_shape[0][1]\n",
    "\n",
    "boundary_curves = gmsh.model.getBoundary([(2, final_surface_tag)], combined=False)\n",
    "boundary_curves_tags = [c[1] for c in boundary_curves]\n",
    "\n",
    "left_curves, right_curves, bottom_curves, top_curves, wall_curves = [], [], [], [], []\n",
    "tol = 1e-2\n",
    "\n",
    "for curve_tag in boundary_curves_tags:\n",
    "    # if curve_tag < 0:\n",
    "    #     continue\n",
    "    curve_tag = abs(curve_tag)\n",
    "    bbox = gmsh.model.getBoundingBox(1, curve_tag)\n",
    "    xmin, ymin, _, xmax, ymax, _ = bbox\n",
    "    if abs(xmin - 0) < tol and abs(xmax - 0) < tol:\n",
    "        left_curves.append(curve_tag)\n",
    "    elif abs(xmin - W_TOTAL) < tol and abs(xmax - W_TOTAL) < tol:\n",
    "        right_curves.append(curve_tag)\n",
    "    elif abs(ymin - H_TOTAL) < tol and abs(ymax - H_TOTAL) < tol:\n",
    "        top_curves.append(curve_tag)\n",
    "    elif abs(ymin - 0) < tol and abs(ymax - 0) < tol:\n",
    "        bottom_curves.append(curve_tag)\n",
    "    else:\n",
    "        wall_curves.append(curve_tag)\n",
    "\n",
    "# Identify boundary points and assign cl_outer\n",
    "boundary_curves = gmsh.model.getBoundary([(2, outer_rectangle)])\n",
    "points = []\n",
    "for curve in boundary_curves:\n",
    "    boundary_points = gmsh.model.getBoundary([curve])\n",
    "    for point in boundary_points:\n",
    "        points.append(point)\n",
    "\n",
    "gmsh.model.mesh.setSize(points, cl_outer)\n",
    "\n",
    "occ.synchronize()"
   ]
  },
  {
   "cell_type": "code",
   "execution_count": 11,
   "id": "f691bd81",
   "metadata": {},
   "outputs": [],
   "source": [
    "boundary_curves = gmsh.model.getBoundary([(2, final_surface_tag)], combined=False)"
   ]
  },
  {
   "cell_type": "code",
   "execution_count": 16,
   "id": "ef48f670",
   "metadata": {},
   "outputs": [
    {
     "data": {
      "text/plain": [
       "22"
      ]
     },
     "execution_count": 16,
     "metadata": {},
     "output_type": "execute_result"
    }
   ],
   "source": [
    "len(wall_curves)"
   ]
  },
  {
   "cell_type": "code",
   "execution_count": 17,
   "id": "c0420851",
   "metadata": {},
   "outputs": [
    {
     "data": {
      "text/plain": [
       "26"
      ]
     },
     "execution_count": 17,
     "metadata": {},
     "output_type": "execute_result"
    }
   ],
   "source": [
    "len(boundary_curves)"
   ]
  },
  {
   "cell_type": "code",
   "execution_count": null,
   "id": "b971193b",
   "metadata": {},
   "outputs": [
    {
     "name": "stdout",
     "output_type": "stream",
     "text": [
      "Info    : Reconstructing periodicity for curve connection 29 - 28\n",
      "Info    : Meshing 1D...\n",
      "Info    : [  0%] Meshing curve 5 (Line)\n",
      "Info    : [ 10%] Meshing curve 6 (Line)\n",
      "Info    : [ 10%] Meshing curve 7 (Line)\n",
      "Info    : [ 20%] Meshing curve 8 (Line)\n",
      "Info    : [ 20%] Meshing curve 9 (Line)\n",
      "Info    : [ 20%] Meshing curve 10 (Line)\n",
      "Info    : [ 30%] Meshing curve 11 (Line)\n",
      "Info    : [ 30%] Meshing curve 12 (Line)\n",
      "Info    : [ 40%] Meshing curve 13 (Line)\n",
      "Info    : [ 40%] Meshing curve 14 (Line)\n",
      "Info    : [ 40%] Meshing curve 15 (Line)\n",
      "Info    : [ 50%] Meshing curve 16 (Line)\n",
      "Info    : [ 50%] Meshing curve 17 (Line)\n",
      "Info    : [ 60%] Meshing curve 18 (Line)\n",
      "Info    : [ 60%] Meshing curve 19 (Line)\n",
      "Info    : [ 60%] Meshing curve 20 (Line)\n",
      "Info    : [ 70%] Meshing curve 21 (Line)\n",
      "Info    : [ 70%] Meshing curve 22 (Line)\n",
      "Info    : [ 70%] Meshing curve 23 (Line)\n",
      "Info    : [ 80%] Meshing curve 24 (Line)\n",
      "Info    : [ 80%] Meshing curve 25 (Line)\n",
      "Info    : [ 90%] Meshing curve 26 (Line)\n",
      "Info    : [ 90%] Meshing curve 27 (Line)\n",
      "Info    : [ 90%] Meshing curve 28 (Line)\n",
      "Info    : [100%] Meshing curve 29 (Line) as a copy of curve 28\n",
      "Info    : [100%] Meshing curve 30 (Line)\n",
      "Info    : Done meshing 1D (Wall 0.0025622s, CPU 0.001951s)\n",
      "Info    : Meshing 2D...\n",
      "Info    : Meshing surface 1 (Plane, Frontal-Delaunay)\n",
      "Info    : Done meshing 2D (Wall 0.160144s, CPU 0.138437s)\n",
      "Info    : Reconstructing periodicity for curve connection 29 - 28\n",
      "Info    : 5879 nodes 11786 elements\n",
      "Info    : Writing 'mesh.msh'...\n",
      "Info    : Done writing 'mesh.msh'\n"
     ]
    }
   ],
   "source": [
    "# Assign Physical Groups\n",
    "gmsh.model.addPhysicalGroup(2, [final_surface_tag], 1, \"domain\")\n",
    "gmsh.model.addPhysicalGroup(1, bottom_curves, 1, \"bottom\")   # Use these for the periodic map\n",
    "gmsh.model.addPhysicalGroup(1, right_curves, 2, \"right\") # Use these for the periodic map\n",
    "gmsh.model.addPhysicalGroup(1, top_curves, 3, \"top\")   # Use these for the periodic map\n",
    "gmsh.model.addPhysicalGroup(1, left_curves, 4, \"left\") # Use these for the periodic map\n",
    "gmsh.model.addPhysicalGroup(1, wall_curves, 5, \"walls\") # Inner walls\n",
    "\n",
    "# --- 6. Apply Periodicity ---\n",
    "# This is the API equivalent of 'Periodic Curve {right} = {left} Translate ...'\n",
    "# The affine transform is [1,0,0, Tx, 0,1,0, Ty, 0,0,1, Tz, 0,0,0, 1]\n",
    "# For x-periodicity, Tx=W_TOTAL, Ty=0, Tz=0\n",
    "# x_translation = [1, 0, 0, W_TOTAL, 0, 1, 0, 0, 0, 0, 1, 0, 0, 0, 0, 1]\n",
    "# gmsh.model.mesh.setPeriodic(1, right_curves, left_curves, x_translation)\n",
    "# y_translation = [1, 0, 0, 0, 0, 1, 0, H_TOTAL, 0, 0, 1, 0, 0, 0, 0, 1]\n",
    "# gmsh.model.mesh.setPeriodic(1, top_curves, bottom_curves, y_translation)\n",
    "# Note: The original file had top/bottom periodicity which is omitted here\n",
    "# for clarity, but could be added with another setPeriodic call.\n",
    "\n",
    "# --- 7. Generate and Save Mesh ---\n",
    "gmsh.model.mesh.generate(2)\n",
    "gmsh.write(\"mesh.msh\")\n",
    "\n",
    "# --- 8. Launch GUI for Visual Inspection (Optional) ---\n",
    "# if '-nopopup' not in sys.argv:\n",
    "#     gmsh.fltk.run()\n",
    "\n",
    "gmsh.finalize()"
   ]
  },
  {
   "cell_type": "markdown",
   "id": "388d59bf",
   "metadata": {},
   "source": [
    "# Square"
   ]
  },
  {
   "cell_type": "code",
   "execution_count": 19,
   "id": "bdd782ba",
   "metadata": {},
   "outputs": [
    {
     "name": "stdout",
     "output_type": "stream",
     "text": [
      "Info    : Meshing 1D...\n",
      "Info    : [  0%] Meshing curve 1 (Line)\n",
      "Info    : [ 30%] Meshing curve 2 (Line)\n",
      "Info    : [ 60%] Meshing curve 3 (Line)\n",
      "Info    : [ 80%] Meshing curve 4 (Line)\n",
      "Info    : Done meshing 1D (Wall 0.0057803s, CPU 0.006262s)\n",
      "Info    : Meshing 2D...\n",
      "Info    : Meshing surface 1 (Plane, Frontal-Delaunay)\n",
      "Info    : Done meshing 2D (Wall 0.0828398s, CPU 0.08359s)\n",
      "Info    : 3018 nodes 6038 elements\n",
      "Info    : Writing 'square_50.msh'...\n",
      "Info    : Done writing 'square_50.msh'\n"
     ]
    },
    {
     "name": "stderr",
     "output_type": "stream",
     "text": [
      "Warning : Gmsh has aleady been initialized\n"
     ]
    }
   ],
   "source": [
    "import gmsh\n",
    "\n",
    "gmsh.initialize()\n",
    "gmsh.model.add(\"square\")\n",
    "\n",
    "# Parameters\n",
    "W = 50.0   # length of the square\n",
    "H = 50.0\n",
    "cl = 1  # target mesh size\n",
    "\n",
    "# Define corner points (tags are assigned automatically)\n",
    "p1 = gmsh.model.geo.addPoint(0, 0, 0, cl)\n",
    "p2 = gmsh.model.geo.addPoint(W, 0, 0, cl)\n",
    "p3 = gmsh.model.geo.addPoint(W, H, 0, cl)\n",
    "p4 = gmsh.model.geo.addPoint(0, H, 0, cl)\n",
    "\n",
    "# Define lines\n",
    "l1 = gmsh.model.geo.addLine(p1, p2)\n",
    "l2 = gmsh.model.geo.addLine(p2, p3)\n",
    "l3 = gmsh.model.geo.addLine(p3, p4)\n",
    "l4 = gmsh.model.geo.addLine(p4, p1)\n",
    "\n",
    "# Line loop and surface\n",
    "loop = gmsh.model.geo.addCurveLoop([l1, l2, l3, l4])\n",
    "surface = gmsh.model.geo.addPlaneSurface([loop])\n",
    "\n",
    "# Physical groups\n",
    "gmsh.model.geo.synchronize()\n",
    "gmsh.model.addPhysicalGroup(1, [l1, l2, l3, l4], tag=1)  # boundary\n",
    "gmsh.model.setPhysicalName(1, 1, \"Boundary\")\n",
    "\n",
    "gmsh.model.addPhysicalGroup(2, [surface], tag=2)  # domain\n",
    "gmsh.model.setPhysicalName(2, 2, \"Domain\")\n",
    "\n",
    "# Mesh generation\n",
    "gmsh.model.mesh.generate(2)\n",
    "gmsh.write(\"square_50.msh\")     # Save as msh2 by default"
   ]
  },
  {
   "cell_type": "code",
   "execution_count": null,
   "id": "55e6f721",
   "metadata": {},
   "outputs": [],
   "source": []
  }
 ],
 "metadata": {
  "kernelspec": {
   "display_name": "fenics",
   "language": "python",
   "name": "python3"
  },
  "language_info": {
   "codemirror_mode": {
    "name": "ipython",
    "version": 3
   },
   "file_extension": ".py",
   "mimetype": "text/x-python",
   "name": "python",
   "nbconvert_exporter": "python",
   "pygments_lexer": "ipython3",
   "version": "3.9.18"
  }
 },
 "nbformat": 4,
 "nbformat_minor": 5
}
